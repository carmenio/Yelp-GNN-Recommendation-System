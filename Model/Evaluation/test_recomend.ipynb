{
 "cells": [
  {
   "cell_type": "code",
   "execution_count": 1,
   "id": "dce969b6",
   "metadata": {},
   "outputs": [
    {
     "data": {
      "text/plain": [
       "[(None,)]"
      ]
     },
     "execution_count": 1,
     "metadata": {},
     "output_type": "execute_result"
    }
   ],
   "source": [
    "import os, sys; [(sys.path.append(d),)\n",
    "                 for d in (os.path.abspath(os.path.join(os.getcwd(), *([\"..\"] * i))) \n",
    "                           for i in range(len(os.getcwd().split(os.sep)))) \n",
    "                           if os.path.isfile(os.path.join(d, 'main.py'))]"
   ]
  },
  {
   "cell_type": "code",
   "execution_count": 2,
   "id": "6971bae8",
   "metadata": {},
   "outputs": [],
   "source": [
    "import argparse\n",
    "import math\n",
    "import pandas as pd\n",
    "import torch\n",
    "import torch.nn.functional as F\n",
    "from torch.nn import Linear, MSELoss\n",
    "from torch.optim import Adam\n",
    "from torch.utils.data import Dataset, DataLoader, Subset\n",
    "from torch.utils.tensorboard import SummaryWriter\n",
    "from tqdm import tqdm\n",
    "from torch_geometric.nn.models.tgn import TGNMemory, IdentityMessage, LastAggregator\n",
    "from torch_geometric.nn.conv import TransformerConv"
   ]
  },
  {
   "cell_type": "code",
   "execution_count": 3,
   "id": "6bc30a25",
   "metadata": {},
   "outputs": [],
   "source": [
    "from Model.Prediction.tgn_recommendation import haversine, load_and_preprocess, recommend, MyTGN"
   ]
  },
  {
   "cell_type": "code",
   "execution_count": 4,
   "id": "6dc57ed9",
   "metadata": {},
   "outputs": [],
   "source": [
    "device = \"cuda\" if torch.cuda.is_available() else \"cpu\"\n",
    "(source, dest, edge_attr, norm_ts,\n",
    "    user_df, biz_df,\n",
    "    user_to_index, business_to_index,\n",
    "    user_feats, biz_feats, avg_rating) = load_and_preprocess(data_directory=\"../../Data\")\n",
    "total_nodes = len(user_to_index) + len(business_to_index)\n"
   ]
  },
  {
   "cell_type": "code",
   "execution_count": null,
   "id": "8ff44a8d",
   "metadata": {},
   "outputs": [],
   "source": [
    "\n",
    "model = MyTGN(total_nodes, user_feats.size(1), biz_feats.size(1)).to(device)\n",
    "model.load_state_dict(torch.load('../Saved_Models/tgn_model.pt', weights_only=True))\n",
    "model.eval()\n"
   ]
  },
  {
   "cell_type": "code",
   "execution_count": 36,
   "id": "3b52f537",
   "metadata": {},
   "outputs": [
    {
     "name": "stdout",
     "output_type": "stream",
     "text": [
      "Top Recommendations:\n",
      "  @Ramen: 3.80472040\n",
      "  Phils Appliances: 3.80436683\n",
      "  Little Kitchen: 3.80345440\n",
      "  DB Cleaning Services: 3.80344272\n",
      "  WYSP 94.1 FM: 3.80339575\n",
      "  Balcony Bar @ The Kimmel Center: 3.80307007\n",
      "  Grovers Meat Market: 3.80305052\n",
      "  Crust Vegan Bakery: 3.80293918\n",
      "  Dollar Tree: 3.80288887\n",
      "  The Parking Spot: 3.80284071\n",
      "  Popeyes Louisiana Kitchen: 3.80277896\n",
      "  Quick & Clean Coin Laundry: 3.80245185\n",
      "  Original 13 Ciderworks: 3.80243778\n",
      "  Desimone Auto Group: 3.80242991\n",
      "  Blatt Tire & Auto Repair: 3.80240750\n",
      "  Tequilas Restaurant: 3.80238724\n",
      "  Pete's BBQ Breakfast & Deli: 3.80238438\n",
      "  Wawa: 3.80238366\n",
      "  Emma's Nails And Spa: 3.80236244\n",
      "  Just Salad: 3.80235863\n"
     ]
    }
   ],
   "source": [
    "\n",
    "# sample recommend\n",
    "uid = 'AUi8MPWJ0mLkMfwbui27lg'\n",
    "long = -75.155564\n",
    "lat = 39.955505\n",
    "radius = 100\n",
    "hour = 10\n",
    "recs = recommend(model, uid, lat, long, radius, hour,\n",
    "                    user_to_index, business_to_index, biz_df,\n",
    "                    top_k=20, device=device, avg_rating=avg_rating, user_feats=user_feats, biz_feats=biz_feats)\n",
    "print(\"Top Recommendations:\")\n",
    "for bid, sc in recs:\n",
    "    name = biz_df.loc[biz_df['business_id'] == bid, 'name'].values[0]\n",
    "    print(f\"  {name}: {sc:.8f}\")"
   ]
  }
 ],
 "metadata": {
  "kernelspec": {
   "display_name": "base",
   "language": "python",
   "name": "python3"
  },
  "language_info": {
   "codemirror_mode": {
    "name": "ipython",
    "version": 3
   },
   "file_extension": ".py",
   "mimetype": "text/x-python",
   "name": "python",
   "nbconvert_exporter": "python",
   "pygments_lexer": "ipython3",
   "version": "3.11.5"
  }
 },
 "nbformat": 4,
 "nbformat_minor": 5
}
