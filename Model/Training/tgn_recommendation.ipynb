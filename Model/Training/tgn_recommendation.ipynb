{
 "cells": [
  {
   "cell_type": "code",
   "execution_count": 1,
   "metadata": {},
   "outputs": [
    {
     "data": {
      "text/plain": [
       "[(None,)]"
      ]
     },
     "execution_count": 1,
     "metadata": {},
     "output_type": "execute_result"
    }
   ],
   "source": [
    "import os, sys; [(sys.path.append(d),)\n",
    "                 for d in (os.path.abspath(os.path.join(os.getcwd(), *([\"..\"] * i))) \n",
    "                           for i in range(len(os.getcwd().split(os.sep)))) \n",
    "                           if os.path.isfile(os.path.join(d, 'main.py'))]"
   ]
  },
  {
   "cell_type": "code",
   "execution_count": null,
   "metadata": {},
   "outputs": [],
   "source": [
    "# Import necessary libraries\n",
    "import pandas as pd\n",
    "import torch\n",
    "from torch.utils.data import DataLoader\n",
    "from tqdm import tqdm\n",
    "\n",
    "# Import functions and classes from tgn_recommendation.py\n",
    "from Model.Prediction.tgn_recommendation import (\n",
    "    load_and_preprocess,\n",
    "    MyTGN,\n",
    "    train_model\n",
    ")\n",
    "\n",
    "# Load and preprocess data\n",
    "data_directory = \"../../data\"\n",
    "(source, dest, edge_attr, norm_ts,\n",
    " user_df, biz_df,\n",
    " user_to_index, business_to_index,\n",
    " user_feats, biz_feats, avg_rating) = load_and_preprocess(data_directory)\n",
    "\n",
    "total_nodes = len(user_to_index) + len(business_to_index)\n",
    "\n",
    "# Set device\n",
    "device = \"cuda\" if torch.cuda.is_available() else \"cpu\"\n",
    "\n",
    "# Train the model\n",
    "model = train_model(\n",
    "    source, dest, edge_attr, norm_ts,\n",
    "    total_nodes, user_feats, biz_feats,\n",
    "    biz_df, user_to_index, business_to_index,\n",
    "    epochs=50, device=device, avg_rating=avg_rating\n",
    ")\n",
    "\n",
    "# Save the model\n",
    "torch.save(model.state_dict(), \"../Saved_Models/tgn_model.pt\")\n"
   ]
  }
 ],
 "metadata": {
  "kernelspec": {
   "display_name": "base",
   "language": "python",
   "name": "python3"
  },
  "language_info": {
   "codemirror_mode": {
    "name": "ipython",
    "version": 3
   },
   "file_extension": ".py",
   "mimetype": "text/x-python",
   "name": "python",
   "nbconvert_exporter": "python",
   "pygments_lexer": "ipython3",
   "version": "3.11.5"
  }
 },
 "nbformat": 4,
 "nbformat_minor": 4
}
